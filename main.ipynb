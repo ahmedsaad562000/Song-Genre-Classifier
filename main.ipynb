{
 "cells": [
  {
   "cell_type": "markdown",
   "metadata": {},
   "source": [
    "# BIG TATA"
   ]
  },
  {
   "cell_type": "code",
   "execution_count": 1,
   "metadata": {},
   "outputs": [],
   "source": [
    "import os\n",
    "from pyspark.sql import SparkSession\n",
    "from pyspark.sql.functions import col , sum as sum_func\n",
    "from IPython.display import display\n"
   ]
  },
  {
   "cell_type": "code",
   "execution_count": 2,
   "metadata": {},
   "outputs": [
    {
     "data": {
      "text/plain": [
       "'C:\\\\Program Files\\\\Spark\\\\spark-3.5.1-bin-hadoop3'"
      ]
     },
     "execution_count": 2,
     "metadata": {},
     "output_type": "execute_result"
    }
   ],
   "source": [
    "import findspark\n",
    "findspark.init()\n",
    "findspark.find()"
   ]
  },
  {
   "cell_type": "code",
   "execution_count": 3,
   "metadata": {},
   "outputs": [],
   "source": [
    "# Create a SparkSession\n",
    "spark = SparkSession.builder \\\n",
    "    .appName(\"My Spark App\") \\\n",
    "    .getOrCreate()"
   ]
  },
  {
   "cell_type": "code",
   "execution_count": 4,
   "metadata": {},
   "outputs": [],
   "source": [
    "input_df = spark.read.csv(\"spotify_songs.csv\", header=True, inferSchema=True)\n"
   ]
  },
  {
   "cell_type": "code",
   "execution_count": 5,
   "metadata": {},
   "outputs": [
    {
     "name": "stdout",
     "output_type": "stream",
     "text": [
      "root\n",
      " |-- track_id: string (nullable = true)\n",
      " |-- track_name: string (nullable = true)\n",
      " |-- track_artist: string (nullable = true)\n",
      " |-- track_popularity: integer (nullable = true)\n",
      " |-- track_album_id: string (nullable = true)\n",
      " |-- track_album_name: string (nullable = true)\n",
      " |-- track_album_release_date: string (nullable = true)\n",
      " |-- playlist_name: string (nullable = true)\n",
      " |-- playlist_id: string (nullable = true)\n",
      " |-- playlist_genre: string (nullable = true)\n",
      " |-- playlist_subgenre: string (nullable = true)\n",
      " |-- danceability: string (nullable = true)\n",
      " |-- energy: double (nullable = true)\n",
      " |-- key: double (nullable = true)\n",
      " |-- loudness: double (nullable = true)\n",
      " |-- mode: double (nullable = true)\n",
      " |-- speechiness: double (nullable = true)\n",
      " |-- acousticness: double (nullable = true)\n",
      " |-- instrumentalness: double (nullable = true)\n",
      " |-- liveness: double (nullable = true)\n",
      " |-- valence: double (nullable = true)\n",
      " |-- tempo: double (nullable = true)\n",
      " |-- duration_ms: double (nullable = true)\n",
      " |-- language: string (nullable = true)\n",
      " |-- lyrics: string (nullable = true)\n",
      "\n"
     ]
    }
   ],
   "source": [
    "# 3. Display schema of DataFrame. \n",
    "input_df.printSchema()\n"
   ]
  },
  {
   "cell_type": "code",
   "execution_count": 6,
   "metadata": {},
   "outputs": [
    {
     "name": "stdout",
     "output_type": "stream",
     "text": [
      "root\n",
      " |-- track_id: string (nullable = true)\n",
      " |-- playlist_genre: string (nullable = true)\n",
      " |-- playlist_subgenre: string (nullable = true)\n",
      " |-- danceability: string (nullable = true)\n",
      " |-- energy: double (nullable = true)\n",
      " |-- key: double (nullable = true)\n",
      " |-- loudness: double (nullable = true)\n",
      " |-- mode: double (nullable = true)\n",
      " |-- speechiness: double (nullable = true)\n",
      " |-- acousticness: double (nullable = true)\n",
      " |-- instrumentalness: double (nullable = true)\n",
      " |-- liveness: double (nullable = true)\n",
      " |-- valence: double (nullable = true)\n",
      " |-- tempo: double (nullable = true)\n",
      " |-- duration_ms: double (nullable = true)\n",
      " |-- language: string (nullable = true)\n",
      " |-- lyrics: string (nullable = true)\n",
      "\n"
     ]
    },
    {
     "name": "stdout",
     "output_type": "stream",
     "text": [
      "18454\n"
     ]
    }
   ],
   "source": [
    "# clean data\n",
    "\n",
    "# remove unnecessary columns (track_album_id , track_album_name , track_album_release_date , playlist_name , playlist_id , track_popularity)\n",
    "\n",
    "cleaned_df = input_df.drop(\"track_album_id\",\"track_album_name\",\"track_album_release_date\",\"playlist_name\",\"playlist_id\" ,\"track_popularity\" , \"track_name\" , \"track_artist\")\n",
    "\n",
    "# print schema\n",
    "cleaned_df.printSchema()\n",
    "\n",
    "# delete all records with null values\n",
    "\n",
    "\n",
    "\n",
    "\n",
    "# show records count\n",
    "\n",
    "print(cleaned_df.count())\n",
    "\n"
   ]
  },
  {
   "cell_type": "code",
   "execution_count": 7,
   "metadata": {},
   "outputs": [],
   "source": [
    "\n",
    "\n",
    "# #show records with null values\n",
    "\n",
    "# columns = cleaned_df.columns\n",
    "\n",
    "# for column in columns:\n",
    "#     print (\"records with null values in column \" + column)\n",
    "#     cleaned_df.filter(cleaned_df[column].isNull()).show()\n",
    "\n"
   ]
  },
  {
   "cell_type": "code",
   "execution_count": 13,
   "metadata": {},
   "outputs": [
    {
     "name": "stdout",
     "output_type": "stream",
     "text": [
      "[['count' '18184']\n",
      " ['mean' '230549.0757259129']\n",
      " ['stddev' '56735.896677169534']\n",
      " ['min' '31893.0']\n",
      " ['25%' '193594.0']\n",
      " ['50%' '221480.0']\n",
      " ['75%' '258027.0']\n",
      " ['max' '517810.0']]\n",
      "17536\n"
     ]
    }
   ],
   "source": [
    "\n",
    "# remove records with null values\n",
    "\n",
    "cleaned_df = cleaned_df.na.drop()\n",
    "\n",
    "# remove records with lyrics = NA\n",
    "cleaned_df = cleaned_df.filter(cleaned_df.lyrics != \"NA\")\n",
    "features = [\"danceability\",\"energy\",\"key\",\"loudness\",\"mode\",\"speechiness\",\"acousticness\",\"instrumentalness\",\"liveness\",\"valence\",\"tempo\",\"duration_ms\"]\n",
    "\n",
    "# make sure that all this features have numeric values\n",
    "\n",
    "for feature in features:\n",
    "    cleaned_df = cleaned_df.filter(col(feature).cast(\"float\").isNotNull() | col(feature).cast(\"int\").isNotNull() )\n",
    "\n",
    "\n",
    "# get duration_ms first quartile\n",
    "\n",
    "duaration_ms_data = cleaned_df.select(\"duration_ms\").summary().toPandas().to_numpy()\n",
    "print (duaration_ms_data)\n",
    "\n",
    "first_quartile = float(duaration_ms_data[4][1])\n",
    "third_quartile = float(duaration_ms_data[6][1])\n",
    "duraton_IQR = (third_quartile - first_quartile) * 1.5\n",
    "\n",
    "cleaned_df = cleaned_df.filter((col(\"duration_ms\").cast(\"float\") >= first_quartile - duraton_IQR) & (col(\"duration_ms\").cast(\"float\") <= third_quartile + duraton_IQR))\n",
    "\n",
    "\n",
    "# show records count\n",
    "print(cleaned_df.count())\n"
   ]
  },
  {
   "cell_type": "code",
   "execution_count": 14,
   "metadata": {},
   "outputs": [
    {
     "data": {
      "text/html": [
       "<div>\n",
       "<style scoped>\n",
       "    .dataframe tbody tr th:only-of-type {\n",
       "        vertical-align: middle;\n",
       "    }\n",
       "\n",
       "    .dataframe tbody tr th {\n",
       "        vertical-align: top;\n",
       "    }\n",
       "\n",
       "    .dataframe thead th {\n",
       "        text-align: right;\n",
       "    }\n",
       "</style>\n",
       "<table border=\"1\" class=\"dataframe\">\n",
       "  <thead>\n",
       "    <tr style=\"text-align: right;\">\n",
       "      <th></th>\n",
       "      <th>playlist_genre</th>\n",
       "    </tr>\n",
       "  </thead>\n",
       "  <tbody>\n",
       "    <tr>\n",
       "      <th>0</th>\n",
       "      <td>r&amp;b</td>\n",
       "    </tr>\n",
       "    <tr>\n",
       "      <th>1</th>\n",
       "      <td>pop</td>\n",
       "    </tr>\n",
       "    <tr>\n",
       "      <th>2</th>\n",
       "      <td>edm</td>\n",
       "    </tr>\n",
       "    <tr>\n",
       "      <th>3</th>\n",
       "      <td>rap</td>\n",
       "    </tr>\n",
       "    <tr>\n",
       "      <th>4</th>\n",
       "      <td>rock</td>\n",
       "    </tr>\n",
       "    <tr>\n",
       "      <th>5</th>\n",
       "      <td>latin</td>\n",
       "    </tr>\n",
       "  </tbody>\n",
       "</table>\n",
       "</div>"
      ],
      "text/plain": [
       "  playlist_genre\n",
       "0            r&b\n",
       "1            pop\n",
       "2            edm\n",
       "3            rap\n",
       "4           rock\n",
       "5          latin"
      ]
     },
     "metadata": {},
     "output_type": "display_data"
    },
    {
     "name": "stdout",
     "output_type": "stream",
     "text": [
      "17536\n"
     ]
    }
   ],
   "source": [
    "\n",
    "\n",
    "\n",
    "# show genre with more than 100 songs\n",
    "result = cleaned_df.groupBy(\"playlist_genre\").count()\n",
    "filtered_result = result.filter(col(\"count\") > 100).select(\"playlist_genre\")\n",
    "display(filtered_result.toPandas())\n",
    "\n",
    "\n",
    "# remove all records that doesn't belong to filtered_result\n",
    "\n",
    "cleaned_df = cleaned_df.join(filtered_result, on=\"playlist_genre\", how=\"left\")\n",
    "print(cleaned_df.count())\n",
    "\n",
    "\n"
   ]
  },
  {
   "cell_type": "code",
   "execution_count": 15,
   "metadata": {},
   "outputs": [
    {
     "data": {
      "text/html": [
       "<div>\n",
       "<style scoped>\n",
       "    .dataframe tbody tr th:only-of-type {\n",
       "        vertical-align: middle;\n",
       "    }\n",
       "\n",
       "    .dataframe tbody tr th {\n",
       "        vertical-align: top;\n",
       "    }\n",
       "\n",
       "    .dataframe thead th {\n",
       "        text-align: right;\n",
       "    }\n",
       "</style>\n",
       "<table border=\"1\" class=\"dataframe\">\n",
       "  <thead>\n",
       "    <tr style=\"text-align: right;\">\n",
       "      <th></th>\n",
       "      <th>playlist_subgenre</th>\n",
       "    </tr>\n",
       "  </thead>\n",
       "  <tbody>\n",
       "    <tr>\n",
       "      <th>0</th>\n",
       "      <td>electropop</td>\n",
       "    </tr>\n",
       "    <tr>\n",
       "      <th>1</th>\n",
       "      <td>latin pop</td>\n",
       "    </tr>\n",
       "    <tr>\n",
       "      <th>2</th>\n",
       "      <td>tropical</td>\n",
       "    </tr>\n",
       "    <tr>\n",
       "      <th>3</th>\n",
       "      <td>album rock</td>\n",
       "    </tr>\n",
       "    <tr>\n",
       "      <th>4</th>\n",
       "      <td>new jack swing</td>\n",
       "    </tr>\n",
       "    <tr>\n",
       "      <th>5</th>\n",
       "      <td>urban contemporary</td>\n",
       "    </tr>\n",
       "    <tr>\n",
       "      <th>6</th>\n",
       "      <td>big room</td>\n",
       "    </tr>\n",
       "    <tr>\n",
       "      <th>7</th>\n",
       "      <td>pop edm</td>\n",
       "    </tr>\n",
       "    <tr>\n",
       "      <th>8</th>\n",
       "      <td>permanent wave</td>\n",
       "    </tr>\n",
       "    <tr>\n",
       "      <th>9</th>\n",
       "      <td>trap</td>\n",
       "    </tr>\n",
       "    <tr>\n",
       "      <th>10</th>\n",
       "      <td>dance pop</td>\n",
       "    </tr>\n",
       "    <tr>\n",
       "      <th>11</th>\n",
       "      <td>reggaeton</td>\n",
       "    </tr>\n",
       "    <tr>\n",
       "      <th>12</th>\n",
       "      <td>gangster rap</td>\n",
       "    </tr>\n",
       "    <tr>\n",
       "      <th>13</th>\n",
       "      <td>hip hop</td>\n",
       "    </tr>\n",
       "    <tr>\n",
       "      <th>14</th>\n",
       "      <td>post-teen pop</td>\n",
       "    </tr>\n",
       "    <tr>\n",
       "      <th>15</th>\n",
       "      <td>neo soul</td>\n",
       "    </tr>\n",
       "    <tr>\n",
       "      <th>16</th>\n",
       "      <td>progressive electro house</td>\n",
       "    </tr>\n",
       "    <tr>\n",
       "      <th>17</th>\n",
       "      <td>hard rock</td>\n",
       "    </tr>\n",
       "    <tr>\n",
       "      <th>18</th>\n",
       "      <td>classic rock</td>\n",
       "    </tr>\n",
       "    <tr>\n",
       "      <th>19</th>\n",
       "      <td>hip pop</td>\n",
       "    </tr>\n",
       "    <tr>\n",
       "      <th>20</th>\n",
       "      <td>indie poptimism</td>\n",
       "    </tr>\n",
       "    <tr>\n",
       "      <th>21</th>\n",
       "      <td>southern hip hop</td>\n",
       "    </tr>\n",
       "    <tr>\n",
       "      <th>22</th>\n",
       "      <td>latin hip hop</td>\n",
       "    </tr>\n",
       "    <tr>\n",
       "      <th>23</th>\n",
       "      <td>electro house</td>\n",
       "    </tr>\n",
       "  </tbody>\n",
       "</table>\n",
       "</div>"
      ],
      "text/plain": [
       "            playlist_subgenre\n",
       "0                  electropop\n",
       "1                   latin pop\n",
       "2                    tropical\n",
       "3                  album rock\n",
       "4              new jack swing\n",
       "5          urban contemporary\n",
       "6                    big room\n",
       "7                     pop edm\n",
       "8              permanent wave\n",
       "9                        trap\n",
       "10                  dance pop\n",
       "11                  reggaeton\n",
       "12               gangster rap\n",
       "13                    hip hop\n",
       "14              post-teen pop\n",
       "15                   neo soul\n",
       "16  progressive electro house\n",
       "17                  hard rock\n",
       "18               classic rock\n",
       "19                    hip pop\n",
       "20            indie poptimism\n",
       "21           southern hip hop\n",
       "22              latin hip hop\n",
       "23              electro house"
      ]
     },
     "metadata": {},
     "output_type": "display_data"
    },
    {
     "name": "stdout",
     "output_type": "stream",
     "text": [
      "17536\n"
     ]
    }
   ],
   "source": [
    "\n",
    "\n",
    "# show subgenre with more than 100 songs\n",
    "result = cleaned_df.groupBy(\"playlist_subgenre\").count()\n",
    "filtered_result = result.filter(col(\"count\") > 100).select(\"playlist_subgenre\")\n",
    "display(filtered_result.toPandas())\n",
    "\n",
    "# remove all records that doesn't belong to filtered_result\n",
    "\n",
    "cleaned_df = cleaned_df.join(filtered_result, on=\"playlist_subgenre\", how=\"left\")\n",
    "\n",
    "print(cleaned_df.count())\n",
    "\n",
    "\n",
    "#export to csv\n",
    "pandas_df = cleaned_df.toPandas()\n",
    "pandas_df.to_csv(\"cleaned_songs.csv\", index=False , header=True)\n",
    "\n",
    "\n",
    "\n",
    "\n",
    "\n",
    "\n"
   ]
  }
 ],
 "metadata": {
  "kernelspec": {
   "display_name": "big_tata",
   "language": "python",
   "name": "python3"
  },
  "language_info": {
   "codemirror_mode": {
    "name": "ipython",
    "version": 3
   },
   "file_extension": ".py",
   "mimetype": "text/x-python",
   "name": "python",
   "nbconvert_exporter": "python",
   "pygments_lexer": "ipython3",
   "version": "3.10.14"
  }
 },
 "nbformat": 4,
 "nbformat_minor": 2
}
