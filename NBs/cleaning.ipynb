{
 "cells": [
  {
   "cell_type": "markdown",
   "metadata": {},
   "source": [
    "# BIG TATA"
   ]
  },
  {
   "cell_type": "code",
   "execution_count": 10,
   "metadata": {},
   "outputs": [],
   "source": [
    "import os\n",
    "from pyspark.sql import SparkSession\n",
    "from pyspark.sql.functions import col , sum as sum_func , when\n",
    "from IPython.display import display\n"
   ]
  },
  {
   "cell_type": "code",
   "execution_count": 11,
   "metadata": {},
   "outputs": [
    {
     "data": {
      "text/plain": [
       "'C:\\\\Program Files\\\\Spark\\\\spark-3.5.1-bin-hadoop3'"
      ]
     },
     "execution_count": 11,
     "metadata": {},
     "output_type": "execute_result"
    }
   ],
   "source": [
    "import findspark\n",
    "findspark.init()\n",
    "findspark.find()"
   ]
  },
  {
   "cell_type": "code",
   "execution_count": 12,
   "metadata": {},
   "outputs": [],
   "source": [
    "# Create a SparkSession\n",
    "spark = SparkSession.builder \\\n",
    "    .appName(\"My Spark App\") \\\n",
    "    .getOrCreate()"
   ]
  },
  {
   "cell_type": "code",
   "execution_count": 13,
   "metadata": {},
   "outputs": [],
   "source": [
    "input_df = spark.read.csv(\"spotify_songs.csv\", header=True, inferSchema=True)\n"
   ]
  },
  {
   "cell_type": "code",
   "execution_count": 14,
   "metadata": {},
   "outputs": [
    {
     "name": "stdout",
     "output_type": "stream",
     "text": [
      "root\n",
      " |-- track_id: string (nullable = true)\n",
      " |-- track_name: string (nullable = true)\n",
      " |-- track_artist: string (nullable = true)\n",
      " |-- track_popularity: integer (nullable = true)\n",
      " |-- track_album_id: string (nullable = true)\n",
      " |-- track_album_name: string (nullable = true)\n",
      " |-- track_album_release_date: string (nullable = true)\n",
      " |-- playlist_name: string (nullable = true)\n",
      " |-- playlist_id: string (nullable = true)\n",
      " |-- playlist_genre: string (nullable = true)\n",
      " |-- playlist_subgenre: string (nullable = true)\n",
      " |-- danceability: string (nullable = true)\n",
      " |-- energy: double (nullable = true)\n",
      " |-- key: double (nullable = true)\n",
      " |-- loudness: double (nullable = true)\n",
      " |-- mode: double (nullable = true)\n",
      " |-- speechiness: double (nullable = true)\n",
      " |-- acousticness: double (nullable = true)\n",
      " |-- instrumentalness: double (nullable = true)\n",
      " |-- liveness: double (nullable = true)\n",
      " |-- valence: double (nullable = true)\n",
      " |-- tempo: double (nullable = true)\n",
      " |-- duration_ms: double (nullable = true)\n",
      " |-- language: string (nullable = true)\n",
      " |-- lyrics: string (nullable = true)\n",
      "\n"
     ]
    }
   ],
   "source": [
    "# 3. Display schema of DataFrame. \n",
    "input_df.printSchema()\n"
   ]
  },
  {
   "cell_type": "code",
   "execution_count": 15,
   "metadata": {},
   "outputs": [
    {
     "name": "stdout",
     "output_type": "stream",
     "text": [
      "root\n",
      " |-- genre: string (nullable = true)\n",
      " |-- danceability: string (nullable = true)\n",
      " |-- energy: double (nullable = true)\n",
      " |-- key: double (nullable = true)\n",
      " |-- loudness: double (nullable = true)\n",
      " |-- mode: double (nullable = true)\n",
      " |-- speechiness: double (nullable = true)\n",
      " |-- acousticness: double (nullable = true)\n",
      " |-- instrumentalness: double (nullable = true)\n",
      " |-- liveness: double (nullable = true)\n",
      " |-- valence: double (nullable = true)\n",
      " |-- tempo: double (nullable = true)\n",
      " |-- duration_ms: double (nullable = true)\n",
      " |-- language: string (nullable = true)\n",
      " |-- lyrics: string (nullable = true)\n",
      "\n",
      "18454\n"
     ]
    }
   ],
   "source": [
    "# clean data\n",
    "\n",
    "# remove unnecessary columns (track_album_id , track_album_name , track_album_release_date , playlist_name , playlist_id , track_popularity)\n",
    "\n",
    "cleaned_df = input_df.drop(\n",
    "    \"track_album_id\",\n",
    "    \"track_album_name\",\n",
    "    \"track_album_release_date\",\n",
    "    \"playlist_name\",\n",
    "    \"playlist_id\",\n",
    "    \"track_popularity\",\n",
    "    \"track_name\",\n",
    "    \"track_artist\",\n",
    "    \"playlist_subgenre\",\n",
    "    \"track_id\",\n",
    ")\n",
    "\n",
    "#rename playlist_genre to genre\n",
    "\n",
    "cleaned_df = cleaned_df.withColumnRenamed(\"playlist_genre\", \"genre\")\n",
    "\n",
    "# print schema\n",
    "cleaned_df.printSchema()\n",
    "\n",
    "# delete all records with null values\n",
    "\n",
    "\n",
    "# show records count\n",
    "\n",
    "print(cleaned_df.count())"
   ]
  },
  {
   "cell_type": "code",
   "execution_count": 7,
   "metadata": {},
   "outputs": [
    {
     "name": "stdout",
     "output_type": "stream",
     "text": [
      "15395 en\n",
      "1705 es\n",
      "241 de\n",
      "176 pt\n",
      "133 it\n",
      "76 pl\n",
      "72 nl\n",
      "65 fr\n",
      "63 tl\n",
      "40 da\n",
      "34 id\n",
      "29 ko\n",
      "24 vi\n",
      "16 ro\n",
      "16 sw\n",
      "16 so\n",
      "12 cy\n",
      "10 no\n",
      "10 hi\n",
      "8 ja\n",
      "7 et\n",
      "5 tr\n",
      "5 sv\n",
      "5 af\n",
      "4 ru\n",
      "3 sq\n",
      "3 hr\n",
      "2 cs\n",
      "2 ar\n",
      "2 ca\n",
      "2 el\n",
      "1 hu\n",
      "1 sk\n",
      "1 fi\n",
      "18184\n"
     ]
    }
   ],
   "source": [
    "# remove records with null values\n",
    "\n",
    "cleaned_df = cleaned_df.na.drop()\n",
    "\n",
    "# remove records with lyrics = NA\n",
    "cleaned_df = cleaned_df.filter(cleaned_df.lyrics != \"NA\")\n",
    "features = [\n",
    "    \"danceability\",\n",
    "    \"energy\",\n",
    "    \"key\",\n",
    "    \"loudness\",\n",
    "    \"mode\",\n",
    "    \"speechiness\",\n",
    "    \"acousticness\",\n",
    "    \"instrumentalness\",\n",
    "    \"liveness\",\n",
    "    \"valence\",\n",
    "    \"tempo\",\n",
    "    \"duration_ms\",\n",
    "]\n",
    "\n",
    "# make sure that all this features have numeric values\n",
    "\n",
    "for feature in features:\n",
    "    cleaned_df = cleaned_df.filter(\n",
    "        col(feature).cast(\"float\").isNotNull() | col(feature).cast(\"int\").isNotNull()\n",
    "    )\n",
    "\n",
    "\n",
    "# show records count\n",
    "print(cleaned_df.count())"
   ]
  },
  {
   "cell_type": "code",
   "execution_count": 16,
   "metadata": {},
   "outputs": [
    {
     "data": {
      "text/html": [
       "<div>\n",
       "<style scoped>\n",
       "    .dataframe tbody tr th:only-of-type {\n",
       "        vertical-align: middle;\n",
       "    }\n",
       "\n",
       "    .dataframe tbody tr th {\n",
       "        vertical-align: top;\n",
       "    }\n",
       "\n",
       "    .dataframe thead th {\n",
       "        text-align: right;\n",
       "    }\n",
       "</style>\n",
       "<table border=\"1\" class=\"dataframe\">\n",
       "  <thead>\n",
       "    <tr style=\"text-align: right;\">\n",
       "      <th></th>\n",
       "      <th>genre</th>\n",
       "      <th>count</th>\n",
       "    </tr>\n",
       "  </thead>\n",
       "  <tbody>\n",
       "    <tr>\n",
       "      <th>0</th>\n",
       "      <td>r&amp;b</td>\n",
       "      <td>3317</td>\n",
       "    </tr>\n",
       "    <tr>\n",
       "      <th>1</th>\n",
       "      <td>pop</td>\n",
       "      <td>3992</td>\n",
       "    </tr>\n",
       "    <tr>\n",
       "      <th>2</th>\n",
       "      <td>edm</td>\n",
       "      <td>2045</td>\n",
       "    </tr>\n",
       "    <tr>\n",
       "      <th>3</th>\n",
       "      <td>rap</td>\n",
       "      <td>3391</td>\n",
       "    </tr>\n",
       "    <tr>\n",
       "      <th>4</th>\n",
       "      <td>rock</td>\n",
       "      <td>3521</td>\n",
       "    </tr>\n",
       "    <tr>\n",
       "      <th>5</th>\n",
       "      <td>latin</td>\n",
       "      <td>2178</td>\n",
       "    </tr>\n",
       "  </tbody>\n",
       "</table>\n",
       "</div>"
      ],
      "text/plain": [
       "   genre  count\n",
       "0    r&b   3317\n",
       "1    pop   3992\n",
       "2    edm   2045\n",
       "3    rap   3391\n",
       "4   rock   3521\n",
       "5  latin   2178"
      ]
     },
     "metadata": {},
     "output_type": "display_data"
    },
    {
     "name": "stdout",
     "output_type": "stream",
     "text": [
      "18454\n"
     ]
    }
   ],
   "source": [
    "# show genre with more than 100 songs\n",
    "result = cleaned_df.groupBy(\"genre\").count()\n",
    "filtered_result = result.filter(col(\"count\") > 100)\n",
    "display(filtered_result.toPandas())\n",
    "\n",
    "\n",
    "# remove all records that doesn't belong to filtered_result\n",
    "\n",
    "cleaned_df = cleaned_df.join(filtered_result.select(\"genre\"), on=\"genre\", how=\"left\")\n",
    "print(cleaned_df.count())\n"
   ]
  },
  {
   "cell_type": "code",
   "execution_count": 17,
   "metadata": {},
   "outputs": [
    {
     "name": "stdout",
     "output_type": "stream",
     "text": [
      "+-----+------------+------+---+--------+----+-------------------+--------------------+----------------+-------------------+------------------+-------+-----------+--------+--------------------+\n",
      "|genre|danceability|energy|key|loudness|mode|        speechiness|        acousticness|instrumentalness|           liveness|           valence|  tempo|duration_ms|language|              lyrics|\n",
      "+-----+------------+------+---+--------+----+-------------------+--------------------+----------------+-------------------+------------------+-------+-----------+--------+--------------------+\n",
      "| rock|       0.682| 0.401|2.0| -10.068| 1.0|             0.0236|               0.279|          0.0117|             0.0887|0.5660000000000001| 97.091|   235440.0|      tl|Minsan pa Nang ak...|\n",
      "| rock|       0.303|  0.88|9.0|  -4.739| 1.0|             0.0442|              0.0117|         0.00994|0.34700000000000003|             0.404|135.225|   373512.0|      en|The trees, are si...|\n",
      "|  r&b|       0.845| 0.652|6.0|  -7.504| 0.0|0.21600000000000005|             0.00432|         0.00723|              0.489|              0.65|111.904|   262467.0|      en|\"NA Yeah, Spyderm...|\n",
      "|  r&b|       0.425| 0.378|5.0|  -5.819| 0.0|             0.0341|  0.6890000000000001|             0.0|             0.0664|             0.405|118.593|   243067.0|      en|I really can't st...|\n",
      "|  pop|        0.76| 0.887|9.0|  -1.993| 1.0|             0.0409|0.037000000000000005|             0.0|              0.138|              0.24|130.018|   193160.0|      en|Get up out of my ...|\n",
      "+-----+------------+------+---+--------+----+-------------------+--------------------+----------------+-------------------+------------------+-------+-----------+--------+--------------------+\n",
      "only showing top 5 rows\n",
      "\n"
     ]
    }
   ],
   "source": [
    "#print first 5 rows\n",
    "cleaned_df.show(5)\n",
    "\n",
    "#export to csv\n",
    "pandas_df = cleaned_df.toPandas()\n",
    "pandas_df.to_csv(\"cleaned_songs.csv\", index=False , header=True)"
   ]
  }
 ],
 "metadata": {
  "kernelspec": {
   "display_name": "big_tata",
   "language": "python",
   "name": "python3"
  },
  "language_info": {
   "codemirror_mode": {
    "name": "ipython",
    "version": 3
   },
   "file_extension": ".py",
   "mimetype": "text/x-python",
   "name": "python",
   "nbconvert_exporter": "python",
   "pygments_lexer": "ipython3",
   "version": "3.10.14"
  }
 },
 "nbformat": 4,
 "nbformat_minor": 2
}
